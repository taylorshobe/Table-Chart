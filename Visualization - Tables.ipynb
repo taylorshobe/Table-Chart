{
 "cells": [
  {
   "cell_type": "code",
   "execution_count": 33,
   "metadata": {},
   "outputs": [],
   "source": [
    "import pandas as pd\n",
    "import matplotlib.pyplot as plt\n",
    "from matplotlib.table import Table"
   ]
  },
  {
   "cell_type": "code",
   "execution_count": 41,
   "metadata": {},
   "outputs": [
    {
     "data": {
      "image/png": "[encoded data removed]",
      "text/plain": [
       "<Figure size 720x432 with 1 Axes>"
      ]
     },
     "metadata": {
      "needs_background": "light"
     },
     "output_type": "display_data"
    }
   ],
   "source": [
    "# Sample DataFrames (replace with your actual data)\n",
    "data = {\n",
    "    'Category': ['Core', 'T.S.', 'N.C.S.', 'T2S', 'Combined'],\n",
    "    'Office': [86.3, 86.9, 92.6, 83.0, 84.7],\n",
    "    'Heim': [87.1, 88.3, 93.6, 88.8, 85.5],\n",
    "    'Sample': [670, 18, 2, 1, 670],\n",
    "    'Significance': [0.0000, 0.0000, 0.3529, 0.0000, 0.0000]\n",
    "}\n",
    "\n",
    "# Create DataFrame\n",
    "df = pd.DataFrame(data)\n",
    "\n",
    "# Ensure 'Combined' is always at the bottom and give it an alias display name\n",
    "df['Category'] = df['Category'].replace('Combined', 'Overall')\n",
    "df['SortOrder'] = df['Category'].apply(lambda x: 1 if x == 'Overall' else 0)\n",
    "df = df.sort_values(by='SortOrder').drop(columns='SortOrder')\n",
    "\n",
    "# Specify columns to include in the table\n",
    "columns_to_include = ['Category', 'Office', 'Heim', 'Sample', 'Significance']\n",
    "df = df[columns_to_include]\n",
    "\n",
    "# Calculate the maximum width for each column\n",
    "def get_max_widths(dataframe):\n",
    "    max_widths = []\n",
    "    for column in dataframe.columns:\n",
    "        max_width = max(dataframe[column].astype(str).map(len).max(), len(column))\n",
    "        max_widths.append(max_width)\n",
    "    return max_widths\n",
    "\n",
    "max_widths = get_max_widths(df)\n",
    "\n",
    "# Create a plot\n",
    "fig, ax = plt.subplots(figsize=(10, 6))\n",
    "ax.axis('tight')\n",
    "ax.axis('off')\n",
    "\n",
    "# Create a table\n",
    "table = Table(ax, bbox=[0, 0, 1, 1])\n",
    "\n",
    "# Add vertical header as an annotation\n",
    "ax.annotate('<12 Months Tenure', xy=(0.005, 0.5), xycoords='axes fraction',\n",
    "            rotation=90, va='center', ha='center', fontsize=14, fontweight='bold', bbox=dict(facecolor='lightgrey', edgecolor='none'))\n",
    "\n",
    "# Add column headers with specified colors\n",
    "table.auto_set_font_size(False)\n",
    "table.set_fontsize(12)\n",
    "table.scale(1.2, 1.2)\n",
    "col_labels = df.columns\n",
    "header_colors = {\n",
    "    'In-Office': 'lightblue',\n",
    "    'At Home': 'lightyellow'\n",
    "}\n",
    "\n",
    "for j, label in enumerate(col_labels):\n",
    "    facecolor = header_colors.get(label, 'lightgrey')\n",
    "    table.add_cell(0, j, width=max_widths[j]*0.02, height=0.05, text=label, loc='center', facecolor=facecolor)\n",
    "\n",
    "# Add data to the table with conditional formatting\n",
    "for i in range(len(df)):\n",
    "    for j in range(len(df.columns)):\n",
    "        cell_text = df.iloc[i, j]\n",
    "        cell_facecolor = 'white'\n",
    "        \n",
    "        # Highlight condition for Sample column: Sample >= 30 (blue) or < 30 (grey)\n",
    "        if j == df.columns.get_loc('Sample'):\n",
    "            if cell_text >= 30:\n",
    "                cell_facecolor = 'lightblue'\n",
    "            else:\n",
    "                cell_facecolor = 'lightgrey'\n",
    "        \n",
    "        # Highlight condition for Significance column\n",
    "        if j == df.columns.get_loc('Significance'):\n",
    "            sample_value = df.iloc[i, df.columns.get_loc('Sample')]\n",
    "            if sample_value >= 30:\n",
    "                if cell_text < 0.05:\n",
    "                    cell_facecolor = 'lightcoral'  # Light red\n",
    "                else:\n",
    "                    cell_facecolor = 'lightblue'\n",
    "            else:\n",
    "                cell_facecolor = 'lightgrey'\n",
    "        \n",
    "        table.add_cell(i+1, j, width=max_widths[j]*0.02, height=0.05, text=cell_text, loc='center', facecolor=cell_facecolor)\n",
    "\n",
    "ax.add_table(table)\n",
    "\n",
    "plt.show()"
   ]
  },
  {
   "cell_type": "code",
   "execution_count": null,
   "metadata": {},
   "outputs": [],
   "source": []
  }
 ],
 "metadata": {
  "kernelspec": {
   "display_name": "Python 3",
   "language": "python",
   "name": "python3"
  },
  "language_info": {
   "codemirror_mode": {
    "name": "ipython",
    "version": 3
   },
   "file_extension": ".py",
   "mimetype": "text/x-python",
   "name": "python",
   "nbconvert_exporter": "python",
   "pygments_lexer": "ipython3",
   "version": "3.7.3"
  }
 },
 "nbformat": 4,
 "nbformat_minor": 2
}
